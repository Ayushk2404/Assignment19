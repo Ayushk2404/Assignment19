{
 "cells": [
  {
   "cell_type": "code",
   "execution_count": 2,
   "metadata": {},
   "outputs": [
    {
     "data": {
      "text/html": [
       "<div>\n",
       "<style scoped>\n",
       "    .dataframe tbody tr th:only-of-type {\n",
       "        vertical-align: middle;\n",
       "    }\n",
       "\n",
       "    .dataframe tbody tr th {\n",
       "        vertical-align: top;\n",
       "    }\n",
       "\n",
       "    .dataframe thead th {\n",
       "        text-align: right;\n",
       "    }\n",
       "</style>\n",
       "<table border=\"1\" class=\"dataframe\">\n",
       "  <thead>\n",
       "    <tr style=\"text-align: right;\">\n",
       "      <th></th>\n",
       "      <th>Series</th>\n",
       "    </tr>\n",
       "  </thead>\n",
       "  <tbody>\n",
       "    <tr>\n",
       "      <th>0</th>\n",
       "      <td>4</td>\n",
       "    </tr>\n",
       "    <tr>\n",
       "      <th>1</th>\n",
       "      <td>8</td>\n",
       "    </tr>\n",
       "    <tr>\n",
       "      <th>2</th>\n",
       "      <td>15</td>\n",
       "    </tr>\n",
       "    <tr>\n",
       "      <th>3</th>\n",
       "      <td>16</td>\n",
       "    </tr>\n",
       "    <tr>\n",
       "      <th>4</th>\n",
       "      <td>23</td>\n",
       "    </tr>\n",
       "    <tr>\n",
       "      <th>5</th>\n",
       "      <td>42</td>\n",
       "    </tr>\n",
       "  </tbody>\n",
       "</table>\n",
       "</div>"
      ],
      "text/plain": [
       "   Series\n",
       "0       4\n",
       "1       8\n",
       "2      15\n",
       "3      16\n",
       "4      23\n",
       "5      42"
      ]
     },
     "execution_count": 2,
     "metadata": {},
     "output_type": "execute_result"
    }
   ],
   "source": [
    "#Q1\n",
    "import pandas as pd\n",
    "data1 = {\n",
    "    \"Series\":[4,8,15,16,23,42]\n",
    "    \n",
    "}\n",
    "df1 = pd.DataFrame(data1)\n",
    "df1"
   ]
  },
  {
   "cell_type": "code",
   "execution_count": 3,
   "metadata": {},
   "outputs": [
    {
     "data": {
      "text/html": [
       "<div>\n",
       "<style scoped>\n",
       "    .dataframe tbody tr th:only-of-type {\n",
       "        vertical-align: middle;\n",
       "    }\n",
       "\n",
       "    .dataframe tbody tr th {\n",
       "        vertical-align: top;\n",
       "    }\n",
       "\n",
       "    .dataframe thead th {\n",
       "        text-align: right;\n",
       "    }\n",
       "</style>\n",
       "<table border=\"1\" class=\"dataframe\">\n",
       "  <thead>\n",
       "    <tr style=\"text-align: right;\">\n",
       "      <th></th>\n",
       "      <th>Names</th>\n",
       "    </tr>\n",
       "  </thead>\n",
       "  <tbody>\n",
       "    <tr>\n",
       "      <th>0</th>\n",
       "      <td>Ayush</td>\n",
       "    </tr>\n",
       "    <tr>\n",
       "      <th>1</th>\n",
       "      <td>Aman</td>\n",
       "    </tr>\n",
       "    <tr>\n",
       "      <th>2</th>\n",
       "      <td>Rohit</td>\n",
       "    </tr>\n",
       "    <tr>\n",
       "      <th>3</th>\n",
       "      <td>Suraj</td>\n",
       "    </tr>\n",
       "    <tr>\n",
       "      <th>4</th>\n",
       "      <td>Priyanshu</td>\n",
       "    </tr>\n",
       "    <tr>\n",
       "      <th>5</th>\n",
       "      <td>Vishal</td>\n",
       "    </tr>\n",
       "    <tr>\n",
       "      <th>6</th>\n",
       "      <td>Ananay</td>\n",
       "    </tr>\n",
       "    <tr>\n",
       "      <th>7</th>\n",
       "      <td>Shailesh</td>\n",
       "    </tr>\n",
       "    <tr>\n",
       "      <th>8</th>\n",
       "      <td>Prashant</td>\n",
       "    </tr>\n",
       "    <tr>\n",
       "      <th>9</th>\n",
       "      <td>Tilak</td>\n",
       "    </tr>\n",
       "  </tbody>\n",
       "</table>\n",
       "</div>"
      ],
      "text/plain": [
       "       Names\n",
       "0      Ayush\n",
       "1       Aman\n",
       "2      Rohit\n",
       "3      Suraj\n",
       "4  Priyanshu\n",
       "5     Vishal\n",
       "6     Ananay\n",
       "7   Shailesh\n",
       "8   Prashant\n",
       "9      Tilak"
      ]
     },
     "execution_count": 3,
     "metadata": {},
     "output_type": "execute_result"
    }
   ],
   "source": [
    "#Q2\n",
    "names = [\"Ayush\", \"Aman\", \"Rohit\", \"Suraj\", \"Priyanshu\", \"Vishal\", \"Ananay\", \"Shailesh\", \"Prashant\", \"Tilak\"]\n",
    "data2 = {\n",
    "\"Names\":names\n",
    "}\n",
    "df2 = pd.DataFrame(data2)\n",
    "df2"
   ]
  },
  {
   "cell_type": "code",
   "execution_count": 4,
   "metadata": {},
   "outputs": [
    {
     "data": {
      "text/html": [
       "<div>\n",
       "<style scoped>\n",
       "    .dataframe tbody tr th:only-of-type {\n",
       "        vertical-align: middle;\n",
       "    }\n",
       "\n",
       "    .dataframe tbody tr th {\n",
       "        vertical-align: top;\n",
       "    }\n",
       "\n",
       "    .dataframe thead th {\n",
       "        text-align: right;\n",
       "    }\n",
       "</style>\n",
       "<table border=\"1\" class=\"dataframe\">\n",
       "  <thead>\n",
       "    <tr style=\"text-align: right;\">\n",
       "      <th></th>\n",
       "      <th>Name</th>\n",
       "      <th>Age</th>\n",
       "      <th>Gender</th>\n",
       "    </tr>\n",
       "  </thead>\n",
       "  <tbody>\n",
       "    <tr>\n",
       "      <th>0</th>\n",
       "      <td>Alice</td>\n",
       "      <td>25</td>\n",
       "      <td>Femle</td>\n",
       "    </tr>\n",
       "    <tr>\n",
       "      <th>1</th>\n",
       "      <td>Bob</td>\n",
       "      <td>30</td>\n",
       "      <td>Male</td>\n",
       "    </tr>\n",
       "    <tr>\n",
       "      <th>2</th>\n",
       "      <td>Claire</td>\n",
       "      <td>27</td>\n",
       "      <td>Female</td>\n",
       "    </tr>\n",
       "  </tbody>\n",
       "</table>\n",
       "</div>"
      ],
      "text/plain": [
       "     Name  Age  Gender\n",
       "0   Alice   25   Femle\n",
       "1     Bob   30    Male\n",
       "2  Claire   27  Female"
      ]
     },
     "execution_count": 4,
     "metadata": {},
     "output_type": "execute_result"
    }
   ],
   "source": [
    "#Q3\n",
    "data3 = {\n",
    "\"Name\":['Alice', 'Bob', 'Claire'],\n",
    "    \"Age\":[25, 30, 27],\n",
    "    \"Gender\":['Femle','Male','Female']\n",
    "}\n",
    "df3 = pd.DataFrame(data3)\n",
    "df3"
   ]
  },
  {
   "cell_type": "code",
   "execution_count": 5,
   "metadata": {},
   "outputs": [
    {
     "name": "stdout",
     "output_type": "stream",
     "text": [
      "   Name  Age           City\n",
      "0  John   25       New York\n",
      "1  Jane   30  San Francisco\n",
      "2  Mike   22        Chicago\n"
     ]
    },
    {
     "data": {
      "text/plain": [
       "\"\\nIn this example, we create a DataFrame df containing three columns: 'Name', 'Age', and 'City'. Each column is a pandas Series with its own data type and an index. The DataFrame allows us to organize this data in a tabular form with row and column labels.\""
      ]
     },
     "execution_count": 5,
     "metadata": {},
     "output_type": "execute_result"
    }
   ],
   "source": [
    "#Q4\n",
    "'''\n",
    "DataFrame in pandas:\n",
    "\n",
    "A DataFrame is a 2-dimensional data structure in pandas that represents data in a tabular form, similar to a spreadsheet or SQL table. It consists of rows and columns, where each column can contain different data types. DataFrames are one of the most commonly used data structures in pandas, and they provide a powerful and flexible way to manipulate and analyze data.\n",
    "\n",
    "Series in pandas:\n",
    "\n",
    "A Series is a 1-dimensional data structure in pandas that represents a labeled array. It can hold data of any type, similar to a NumPy array, but it also has an associated index that labels each element in the Series. The index allows for easy and efficient access to elements based on labels.'''\n",
    "import pandas as pd\n",
    "\n",
    "# Example DataFrame\n",
    "data = {\n",
    "    'Name': ['John', 'Jane', 'Mike'],\n",
    "    'Age': [25, 30, 22],\n",
    "    'City': ['New York', 'San Francisco', 'Chicago']\n",
    "}\n",
    "\n",
    "df = pd.DataFrame(data)\n",
    "print(df)\n",
    "'''\n",
    "In this example, we create a DataFrame df containing three columns: 'Name', 'Age', and 'City'. Each column is a pandas Series with its own data type and an index. The DataFrame allows us to organize this data in a tabular form with row and column labels.'''"
   ]
  },
  {
   "cell_type": "code",
   "execution_count": 6,
   "metadata": {},
   "outputs": [
    {
     "name": "stdout",
     "output_type": "stream",
     "text": [
      "   Name  Age           City\n",
      "0  John   25       New York\n",
      "1  Jane   30  San Francisco\n",
      "2  Mike   22        Chicago\n",
      "<class 'pandas.core.frame.DataFrame'>\n",
      "RangeIndex: 3 entries, 0 to 2\n",
      "Data columns (total 3 columns):\n",
      " #   Column  Non-Null Count  Dtype \n",
      "---  ------  --------------  ----- \n",
      " 0   Name    3 non-null      object\n",
      " 1   Age     3 non-null      int64 \n",
      " 2   City    3 non-null      object\n",
      "dtypes: int64(1), object(2)\n",
      "memory usage: 204.0+ bytes\n",
      "             Age\n",
      "count   3.000000\n",
      "mean   25.666667\n",
      "std     4.041452\n",
      "min    22.000000\n",
      "25%    23.500000\n",
      "50%    25.000000\n",
      "75%    27.500000\n",
      "max    30.000000\n",
      "   Name  Age           City\n",
      "1  Jane   30  San Francisco\n",
      "0  John   25       New York\n",
      "2  Mike   22        Chicago\n",
      "City\n",
      "Chicago          22.0\n",
      "New York         25.0\n",
      "San Francisco    30.0\n",
      "Name: Age, dtype: float64\n"
     ]
    }
   ],
   "source": [
    "#Q5\n",
    "'''\n",
    "Some common functions to manipulate data in a Pandas DataFrame are:\n",
    "\n",
    "1.head() and tail(): These functions allow you to view the first few rows (head()) or the last few rows (tail()) of the DataFrame.\n",
    "'''\n",
    "# Example:\n",
    "print(df.head(3))  # Display the first 3 rows of the DataFrame.\n",
    "\n",
    "# 2.info(): This function provides a concise summary of the DataFrame, including the data types, non-null values, and memory usage.\n",
    "# Example:\n",
    "df.info()\n",
    "\n",
    "\n",
    "# describe(): This function generates descriptive statistics of the DataFrame, such as mean, count, min, max, etc.\n",
    "# Example:\n",
    "# Example:\n",
    "print(df.describe())\n",
    "\n",
    "\n",
    "# sort_values(): This function allows you to sort the DataFrame based on one or more columns.\n",
    "# Example:\n",
    "sorted_df = df.sort_values(by='Age', ascending=False)\n",
    "print(sorted_df)\n",
    "\n",
    "\n",
    "# groupby(): This function is used to group the DataFrame based on one or more columns and perform operations on those groups.\n",
    "# Example:\n",
    "grouped_df = df.groupby('City')['Age'].mean()\n",
    "print(grouped_df)\n"
   ]
  },
  {
   "cell_type": "code",
   "execution_count": 7,
   "metadata": {},
   "outputs": [
    {
     "data": {
      "text/plain": [
       "'\\nIn pandas, both Series and DataFrame are mutable in nature, meaning you can modify their contents after creation.\\nYou can update the elements, add or delete rows/columns in a DataFrame or Series.'"
      ]
     },
     "execution_count": 7,
     "metadata": {},
     "output_type": "execute_result"
    }
   ],
   "source": [
    "#Q6\n",
    "'''\n",
    "In pandas, both Series and DataFrame are mutable in nature, meaning you can modify their contents after creation.\n",
    "You can update the elements, add or delete rows/columns in a DataFrame or Series.'''"
   ]
  },
  {
   "cell_type": "code",
   "execution_count": 8,
   "metadata": {},
   "outputs": [
    {
     "name": "stdout",
     "output_type": "stream",
     "text": [
      "   Name  Age           City\n",
      "0  John   25       New York\n",
      "1  Jane   30  San Francisco\n",
      "2  Mike   22        Chicago\n"
     ]
    }
   ],
   "source": [
    "#Q7\n",
    "import pandas as pd\n",
    "\n",
    "# Create individual Series\n",
    "names = pd.Series(['John', 'Jane', 'Mike'])\n",
    "ages = pd.Series([25, 30, 22])\n",
    "cities = pd.Series(['New York', 'San Francisco', 'Chicago'])\n",
    "\n",
    "# Combine the Series into a DataFrame\n",
    "df = pd.DataFrame({'Name': names, 'Age': ages, 'City': cities})\n",
    "\n",
    "# Print the DataFrame\n",
    "print(df)\n"
   ]
  }
 ],
 "metadata": {
  "kernelspec": {
   "display_name": "Python 3",
   "language": "python",
   "name": "python3"
  },
  "language_info": {
   "codemirror_mode": {
    "name": "ipython",
    "version": 3
   },
   "file_extension": ".py",
   "mimetype": "text/x-python",
   "name": "python",
   "nbconvert_exporter": "python",
   "pygments_lexer": "ipython3",
   "version": "3.11.4"
  },
  "orig_nbformat": 4
 },
 "nbformat": 4,
 "nbformat_minor": 2
}
